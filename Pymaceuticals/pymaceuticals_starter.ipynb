{
 "cells": [
  {
   "cell_type": "markdown",
   "metadata": {},
   "source": [
    "## Observations and Insights"
   ]
  },
  {
   "cell_type": "markdown",
   "metadata": {},
   "source": []
  },
  {
   "cell_type": "markdown",
   "metadata": {},
   "source": [
    "## Dependencies and starter code"
   ]
  },
  {
   "cell_type": "code",
   "execution_count": 2,
   "metadata": {},
   "outputs": [
    {
     "data": {
      "text/html": [
       "<div>\n",
       "<style scoped>\n",
       "    .dataframe tbody tr th:only-of-type {\n",
       "        vertical-align: middle;\n",
       "    }\n",
       "\n",
       "    .dataframe tbody tr th {\n",
       "        vertical-align: top;\n",
       "    }\n",
       "\n",
       "    .dataframe thead th {\n",
       "        text-align: right;\n",
       "    }\n",
       "</style>\n",
       "<table border=\"1\" class=\"dataframe\">\n",
       "  <thead>\n",
       "    <tr style=\"text-align: right;\">\n",
       "      <th></th>\n",
       "      <th>Mouse ID</th>\n",
       "      <th>Drug Regimen</th>\n",
       "      <th>Sex</th>\n",
       "      <th>Age_months</th>\n",
       "      <th>Weight (g)</th>\n",
       "      <th>Timepoint</th>\n",
       "      <th>Tumor Volume (mm3)</th>\n",
       "      <th>Metastatic Sites</th>\n",
       "    </tr>\n",
       "  </thead>\n",
       "  <tbody>\n",
       "    <tr>\n",
       "      <td>0</td>\n",
       "      <td>k403</td>\n",
       "      <td>Ramicane</td>\n",
       "      <td>Male</td>\n",
       "      <td>21</td>\n",
       "      <td>16</td>\n",
       "      <td>0</td>\n",
       "      <td>45.000000</td>\n",
       "      <td>0</td>\n",
       "    </tr>\n",
       "    <tr>\n",
       "      <td>1</td>\n",
       "      <td>k403</td>\n",
       "      <td>Ramicane</td>\n",
       "      <td>Male</td>\n",
       "      <td>21</td>\n",
       "      <td>16</td>\n",
       "      <td>5</td>\n",
       "      <td>38.825898</td>\n",
       "      <td>0</td>\n",
       "    </tr>\n",
       "    <tr>\n",
       "      <td>2</td>\n",
       "      <td>k403</td>\n",
       "      <td>Ramicane</td>\n",
       "      <td>Male</td>\n",
       "      <td>21</td>\n",
       "      <td>16</td>\n",
       "      <td>10</td>\n",
       "      <td>35.014271</td>\n",
       "      <td>1</td>\n",
       "    </tr>\n",
       "    <tr>\n",
       "      <td>3</td>\n",
       "      <td>k403</td>\n",
       "      <td>Ramicane</td>\n",
       "      <td>Male</td>\n",
       "      <td>21</td>\n",
       "      <td>16</td>\n",
       "      <td>15</td>\n",
       "      <td>34.223992</td>\n",
       "      <td>1</td>\n",
       "    </tr>\n",
       "    <tr>\n",
       "      <td>4</td>\n",
       "      <td>k403</td>\n",
       "      <td>Ramicane</td>\n",
       "      <td>Male</td>\n",
       "      <td>21</td>\n",
       "      <td>16</td>\n",
       "      <td>20</td>\n",
       "      <td>32.997729</td>\n",
       "      <td>1</td>\n",
       "    </tr>\n",
       "  </tbody>\n",
       "</table>\n",
       "</div>"
      ],
      "text/plain": [
       "  Mouse ID Drug Regimen   Sex  Age_months  Weight (g)  Timepoint  \\\n",
       "0     k403     Ramicane  Male          21          16          0   \n",
       "1     k403     Ramicane  Male          21          16          5   \n",
       "2     k403     Ramicane  Male          21          16         10   \n",
       "3     k403     Ramicane  Male          21          16         15   \n",
       "4     k403     Ramicane  Male          21          16         20   \n",
       "\n",
       "   Tumor Volume (mm3)  Metastatic Sites  \n",
       "0           45.000000                 0  \n",
       "1           38.825898                 0  \n",
       "2           35.014271                 1  \n",
       "3           34.223992                 1  \n",
       "4           32.997729                 1  "
      ]
     },
     "execution_count": 2,
     "metadata": {},
     "output_type": "execute_result"
    }
   ],
   "source": [
    "# Dependencies and Setup\n",
    "import matplotlib.pyplot as plt\n",
    "import pandas as pd\n",
    "import matplotlib.pyplot as plt; plt.rcdefaults()\n",
    "import scipy.stats as st\n",
    "\n",
    "# Study data files\n",
    "mouse_metadata = \"data/Mouse_metadata.csv\"\n",
    "study_results = \"data/Study_results.csv\"\n",
    "\n",
    "# Read the mouse data and the study results\n",
    "mouse_metadata = pd.read_csv(mouse_metadata)\n",
    "study_results = pd.read_csv(study_results)\n",
    "\n",
    "#print(mouse_metadata, study_results)\n",
    "merge_df = pd.merge(mouse_metadata, study_results)\n",
    "DR = merge_df[\"Drug Regimen\"]\n",
    "merge_df.head()"
   ]
  },
  {
   "cell_type": "markdown",
   "metadata": {},
   "source": [
    "## Summary statistics"
   ]
  },
  {
   "cell_type": "code",
   "execution_count": 3,
   "metadata": {},
   "outputs": [
    {
     "data": {
      "text/html": [
       "<div>\n",
       "<style scoped>\n",
       "    .dataframe tbody tr th:only-of-type {\n",
       "        vertical-align: middle;\n",
       "    }\n",
       "\n",
       "    .dataframe tbody tr th {\n",
       "        vertical-align: top;\n",
       "    }\n",
       "\n",
       "    .dataframe thead th {\n",
       "        text-align: right;\n",
       "    }\n",
       "</style>\n",
       "<table border=\"1\" class=\"dataframe\">\n",
       "  <thead>\n",
       "    <tr style=\"text-align: right;\">\n",
       "      <th></th>\n",
       "      <th>Mean</th>\n",
       "      <th>Median</th>\n",
       "      <th>Variance</th>\n",
       "      <th>STD</th>\n",
       "      <th>SEM</th>\n",
       "    </tr>\n",
       "  </thead>\n",
       "  <tbody>\n",
       "    <tr>\n",
       "      <td>Ramicane</td>\n",
       "      <td>40.68</td>\n",
       "      <td>41.56</td>\n",
       "      <td>24.95</td>\n",
       "      <td>4.99</td>\n",
       "      <td>0.33</td>\n",
       "    </tr>\n",
       "    <tr>\n",
       "      <td>Capomulin</td>\n",
       "      <td>52.59</td>\n",
       "      <td>51.78</td>\n",
       "      <td>39.29</td>\n",
       "      <td>6.27</td>\n",
       "      <td>0.47</td>\n",
       "    </tr>\n",
       "    <tr>\n",
       "      <td>Infubinol</td>\n",
       "      <td>52.88</td>\n",
       "      <td>51.82</td>\n",
       "      <td>43.13</td>\n",
       "      <td>6.57</td>\n",
       "      <td>0.49</td>\n",
       "    </tr>\n",
       "    <tr>\n",
       "      <td>Placebo</td>\n",
       "      <td>55.24</td>\n",
       "      <td>53.70</td>\n",
       "      <td>68.55</td>\n",
       "      <td>8.28</td>\n",
       "      <td>0.60</td>\n",
       "    </tr>\n",
       "    <tr>\n",
       "      <td>Ceftamin</td>\n",
       "      <td>54.33</td>\n",
       "      <td>52.51</td>\n",
       "      <td>66.17</td>\n",
       "      <td>8.13</td>\n",
       "      <td>0.60</td>\n",
       "    </tr>\n",
       "    <tr>\n",
       "      <td>Stelasyn</td>\n",
       "      <td>54.03</td>\n",
       "      <td>52.29</td>\n",
       "      <td>61.17</td>\n",
       "      <td>7.82</td>\n",
       "      <td>0.58</td>\n",
       "    </tr>\n",
       "    <tr>\n",
       "      <td>Zoniferol</td>\n",
       "      <td>52.32</td>\n",
       "      <td>50.85</td>\n",
       "      <td>42.35</td>\n",
       "      <td>6.51</td>\n",
       "      <td>0.51</td>\n",
       "    </tr>\n",
       "    <tr>\n",
       "      <td>Ketapril</td>\n",
       "      <td>40.22</td>\n",
       "      <td>40.67</td>\n",
       "      <td>23.49</td>\n",
       "      <td>4.85</td>\n",
       "      <td>0.32</td>\n",
       "    </tr>\n",
       "    <tr>\n",
       "      <td>Propriva</td>\n",
       "      <td>54.23</td>\n",
       "      <td>52.43</td>\n",
       "      <td>59.45</td>\n",
       "      <td>7.71</td>\n",
       "      <td>0.57</td>\n",
       "    </tr>\n",
       "    <tr>\n",
       "      <td>Naftisol</td>\n",
       "      <td>53.24</td>\n",
       "      <td>51.82</td>\n",
       "      <td>48.53</td>\n",
       "      <td>6.97</td>\n",
       "      <td>0.52</td>\n",
       "    </tr>\n",
       "  </tbody>\n",
       "</table>\n",
       "</div>"
      ],
      "text/plain": [
       "            Mean  Median  Variance   STD   SEM\n",
       "Ramicane   40.68   41.56     24.95  4.99  0.33\n",
       "Capomulin  52.59   51.78     39.29  6.27  0.47\n",
       "Infubinol  52.88   51.82     43.13  6.57  0.49\n",
       "Placebo    55.24   53.70     68.55  8.28  0.60\n",
       "Ceftamin   54.33   52.51     66.17  8.13  0.60\n",
       "Stelasyn   54.03   52.29     61.17  7.82  0.58\n",
       "Zoniferol  52.32   50.85     42.35  6.51  0.51\n",
       "Ketapril   40.22   40.67     23.49  4.85  0.32\n",
       "Propriva   54.23   52.43     59.45  7.71  0.57\n",
       "Naftisol   53.24   51.82     48.53  6.97  0.52"
      ]
     },
     "execution_count": 3,
     "metadata": {},
     "output_type": "execute_result"
    }
   ],
   "source": [
    "# Generate a summary statistics table of mean, median, variance, standard deviation, \n",
    "#and SEM of the tumor volume for each regimen\n",
    "Drug = merge_df.groupby([\"Drug Regimen\"])\n",
    "\n",
    "# Grouping by Drug Regime with Tumor Volume\n",
    "DR_stat = merge_df[[\"Drug Regimen\", \"Tumor Volume (mm3)\"]]\n",
    "\n",
    "#Remove duplicates with teh drop function\n",
    "duplicates = merge_df.drop_duplicates(subset='Mouse ID', keep=\"first\")\n",
    "DR_stat = DR_stat.drop_duplicates()\n",
    "\n",
    "# Connect Tumor data to Drug type (Mean, Median, Variance, Std, Sem)\n",
    "Drug_Regimen_mean = round(Drug[\"Tumor Volume (mm3)\"].mean(),2)\n",
    "Drug_Regimen_median = round(Drug[\"Tumor Volume (mm3)\"].median(),2)\n",
    "Drug_Regimen_Variance = round(Drug[\"Tumor Volume (mm3)\"].var(),2)\n",
    "Drug_Regimen_STD = round(Drug[\"Tumor Volume (mm3)\"].std(),2)\n",
    "Drug_Regimen_SEM = round(Drug[\"Tumor Volume (mm3)\"].sem(),2)\n",
    "\n",
    "# Creating DataFrame & setting index\n",
    "DR_Mean_rows = pd.DataFrame({ \"Mean\": Drug_Regimen_mean,\n",
    "                             \"Median\": Drug_Regimen_median,\n",
    "                             \"Variance\": Drug_Regimen_Variance,\n",
    "                             \"STD\": Drug_Regimen_STD,\n",
    "                             \"SEM\": Drug_Regimen_SEM}) \n",
    "\n",
    "#Classify different Drugs Regimens\n",
    "DR_Mean_rows.index = (['Ramicane', 'Capomulin', 'Infubinol', 'Placebo', 'Ceftamin', \n",
    "                       'Stelasyn', 'Zoniferol', 'Ketapril', 'Propriva', 'Naftisol'])\n",
    "DR_Mean_rows\n"
   ]
  },
  {
   "cell_type": "markdown",
   "metadata": {},
   "source": [
    "## Bar plots"
   ]
  },
  {
   "cell_type": "code",
   "execution_count": 4,
   "metadata": {},
   "outputs": [
    {
     "data": {
      "text/plain": [
       "<matplotlib.axes._subplots.AxesSubplot at 0x1a1a3c9f60>"
      ]
     },
     "execution_count": 4,
     "metadata": {},
     "output_type": "execute_result"
    },
    {
     "data": {
      "image/png": "[encoded data removed]",
      "text/plain": [
       "<Figure size 432x288 with 1 Axes>"
      ]
     },
     "metadata": {
      "needs_background": "light"
     },
     "output_type": "display_data"
    }
   ],
   "source": [
    "# Generate a bar plot showing number of data points for each treatment regimen using pandas\n",
    "\n",
    "Drug_Regimen_count = round(Drug[\"Tumor Volume (mm3)\"].count(),2)\n",
    "Drug_Regimen = (['Ramicane', 'Capomulin', 'Infubinol', 'Placebo', 'Ceftamin',\n",
    "       'Stelasyn', 'Zoniferol', 'Ketapril', 'Propriva', 'Naftisol'])\n",
    "\n",
    "df_pandas = pd.DataFrame({'Drug': Drug_Regimen, 'Value Count': Drug_Regimen_count})\n",
    "df_pandas.plot.bar(x='Drug', y='Value Count', rot=70)\n"
   ]
  },
  {
   "cell_type": "code",
   "execution_count": 5,
   "metadata": {},
   "outputs": [
    {
     "data": {
      "image/png": "[encoded data removed]",
      "text/plain": [
       "<Figure size 720x216 with 1 Axes>"
      ]
     },
     "metadata": {
      "needs_background": "light"
     },
     "output_type": "display_data"
    }
   ],
   "source": [
    "# Generate a bar plot showing number of data points for each treatment regimen using pyplot\n",
    "plt.figure(figsize=(10,3))\n",
    "plt.bar(Drug_Regimen, Drug_Regimen_count, width=.5, align='center', color='blue', alpha=.7 )\n",
    "plt.ylabel('Count')\n",
    "plt.xlabel('Drug Regimen')\n",
    "plt.title('Amount of data points per Data Regimen')\n",
    "plt.show()"
   ]
  },
  {
   "cell_type": "markdown",
   "metadata": {},
   "source": [
    "## Pie plots"
   ]
  },
  {
   "cell_type": "code",
   "execution_count": 120,
   "metadata": {},
   "outputs": [
    {
     "data": {
      "image/png": "[encoded data removed]",
      "text/plain": [
       "<Figure size 432x288 with 1 Axes>"
      ]
     },
     "metadata": {},
     "output_type": "display_data"
    }
   ],
   "source": [
    "# Generate a pie plot showing the distribution of female versus male mice using pandas\n",
    "Sex = merge_df[\"Sex\"]\n",
    "\n",
    "#count the amount of mice in the sex data\n",
    "Gender_df_counts = merge_df.Sex.value_counts()\n",
    "\n",
    "#Declare the type of plot, and show the percentage\n",
    "Gender_df_counts.plot(kind=\"pie\",autopct='%1.1f%%')\n",
    "\n",
    "# add color\n",
    "color = ['green', 'blue']\n",
    "#construct and show show the pie chart using pandas\n",
    "plt.pie(counts.values, colors=color, \n",
    "        labels=Gender_df_counts.index.values,autopct='%1.1f%%')\n",
    "plt.show()\n",
    "\n"
   ]
  },
  {
   "cell_type": "code",
   "execution_count": 118,
   "metadata": {},
   "outputs": [
    {
     "data": {
      "image/png": "[encoded data removed]",
      "text/plain": [
       "<Figure size 432x288 with 1 Axes>"
      ]
     },
     "metadata": {},
     "output_type": "display_data"
    }
   ],
   "source": [
    "# Generate a pie plot showing the distribution of female versus male mice using pyplot\n",
    "\n",
    "#Declare the type of plot, and show the percentage\n",
    "Gender_df_counts.plot(kind=\"pie\",autopct='%1.1f%%')\n",
    "\n",
    "# add color\n",
    "color = ['green', 'blue']\n",
    "\n",
    "#count the amount of mice in the sex data\n",
    "Gender_plot_counts = merge_df.Sex.value_counts()\n",
    "\n",
    "#construct and show show the pie chart using pyplot\n",
    "plt.pie(counts.values, colors=color, \n",
    "        labels=Gender_plot_counts.index.values, autopct='%1.1f%%')\n",
    "plt.ylabel(\"Sex\")\n",
    "plt.show()"
   ]
  },
  {
   "cell_type": "markdown",
   "metadata": {},
   "source": [
    "## Quartiles, outliers and boxplots"
   ]
  },
  {
   "cell_type": "code",
   "execution_count": 117,
   "metadata": {},
   "outputs": [
    {
     "name": "stdout",
     "output_type": "stream",
     "text": [
      "Capomulin Outliers: Series([], Name: Tumor Volume (mm3), dtype: float64)\n",
      "Ceftamin outliers: Series([], Name: Tumor Volume (mm3), dtype: float64)\n",
      "Ramicane outliers: Series([], Name: Tumor Volume (mm3), dtype: float64)\n",
      "Infubinol outliers: 31    36.321346\n",
      "Name: Tumor Volume (mm3), dtype: float64\n"
     ]
    }
   ],
   "source": [
    "# Calculate the final tumor volume of each mouse across four of the most promising treatment regimens. Calculate the IQR and quantitatively determine if there are any potential outliers.\n",
    "\n",
    "# The max value of Mouse ID should be used in order to find the highest time\n",
    "maximum_tumor_data = merge_df.groupby([\"Mouse ID\"]).max()\n",
    "\n",
    "#Reset the max value on the mouse id index\n",
    "maximum_tumor_data = maximum_tumor_data.reset_index()\n",
    "\n",
    "# Merge this group df with the original dataframe to get the tumor volume at the last timepoint\n",
    "applied_data = maximum_tumor_data[['Mouse ID',\n",
    "                                  'Timepoint']].merge(merge_df,\n",
    "                                   on=['Mouse ID','Timepoint'],how=\"left\")\n",
    "\n",
    "# Declare the max Drug Regimens to the name and tumor volume to see their values\n",
    "capomulin = applied_data.loc[applied_data[\"Drug Regimen\"] == \"Capomulin\"]['Tumor Volume (mm3)']\n",
    "ceftamin = applied_data.loc[applied_data[\"Drug Regimen\"] == \"Ceftamin\"]['Tumor Volume (mm3)']\n",
    "infubinol = applied_data.loc[applied_data[\"Drug Regimen\"] == \"Infubinol\"]['Tumor Volume (mm3)']\n",
    "ramicane = applied_data.loc[applied_data[\"Drug Regimen\"] == \"Ramicane\"]['Tumor Volume (mm3)']\n",
    "\n",
    "# Generate a box plot of the final tumor volume of each mouse across four regimens of interest\n",
    "\n",
    "# Quantitatively determine oultiers for ramicane, infubinol, capomulin, and ceftamin \n",
    "capo = capomulin.quantile([.25,.5,.75])\n",
    "rami = ramicane.quantile([.25,.5,.75])\n",
    "infu = infubinol.quantile([.25,.5,.75])\n",
    "ceft = ceftamin.quantile([.25,.5,.75])\n",
    "\n",
    "# Consider the count for the outlier calculations\n",
    "capo_low_q = capo[0.25]\n",
    "capo_up_q = capo[0.75]\n",
    "rami_low_q = rami[0.25]\n",
    "rami_up_q = rami[0.75]\n",
    "infu_low_q = infu[0.25]\n",
    "infu_up_q = infu[0.75]\n",
    "ceft_low_q = ceft[0.25]\n",
    "ceft_up_q = ceft[0.75]\n",
    "\n",
    "# Subtract the the upper form the lower quantitle\n",
    "capo_iqr = capo_up_q - capo_low_q\n",
    "ceft_iqr = ceft_up_q - ceft_low_q\n",
    "infu_iqr = infu_up_q - infu_low_q\n",
    "rami_iqr = rami_up_q - rami_low_q\n",
    "\n",
    "#Subtract new quantitle form lower and upper drug regimen to get bounderies\n",
    "capo_low_boundaries = capo_low_q - (1.5 * capo_iqr)\n",
    "capo_up_boundaries = capo_up_q + (1.5 * capo_iqr)\n",
    "infu_low_boundaries = infu_low_q - (1.5 * infu_iqr)\n",
    "infu_up_boundaries = infu_up_q + (1.5 * infu_iqr)\n",
    "rami_low_boundaries = rami_low_q - (1.5 * rami_iqr)\n",
    "rami_up_boundaries = rami_up_q + (1.5 * rami_iqr)\n",
    "ceft_low_boundaries = ceft_low_q - (1.5 * ceft_iqr)\n",
    "ceft_up_boundaries = ceft_up_q + (1.5 * ceft_iqr)\n",
    "\n",
    "#Print out the located Quantitative boundaries for these three drug regimens\n",
    "print(f\"Capomulin Outliers: { capomulin.loc[(capomulin < capo_low_boundaries) | (capomulin > capo_up_boundaries)]}\" )\n",
    "print(f\"Ceftamin outliers: {ceftamin.loc[(ceftamin < ceft_low_boundaries) | (ceftamin > ceft_up_boundaries)]}\")\n",
    "print(f\"Ramicane outliers: {ramicane.loc[(ramicane < rami_low_boundaries) | (ramicane > rami_up_boundaries)]}\")\n",
    "print(f\"Infubinol outliers: {infubinol.loc[(infubinol < infu_low_boundaries) | (infubinol > infu_up_boundaries)]}\")\n",
    "\n"
   ]
  },
  {
   "cell_type": "markdown",
   "metadata": {},
   "source": [
    "## Line and scatter plots"
   ]
  },
  {
   "cell_type": "code",
   "execution_count": 99,
   "metadata": {},
   "outputs": [
    {
     "data": {
      "image/png": "[encoded data removed]",
      "text/plain": [
       "<Figure size 432x288 with 1 Axes>"
      ]
     },
     "metadata": {
      "needs_background": "light"
     },
     "output_type": "display_data"
    }
   ],
   "source": [
    "# Generate a box plot of the final tumor volume of each mouse across four regimens of interest\n",
    "# Allow the physical perameters to be added for each Drug Regimen\n",
    "outlier = dict(markerfacecolor='green',markersize=12)\n",
    "plt.boxplot([capomulin,ramicane,infubinol,ceftamin],\n",
    "            labels=['Capomulin','Ramicane','Infubinol','Ceftamin'],\n",
    "            flierprops=outlier)\n",
    "plt.ylabel('Total Tumor Volume (mm3)')\n",
    "plt.show()"
   ]
  },
  {
   "cell_type": "code",
   "execution_count": 104,
   "metadata": {},
   "outputs": [
    {
     "data": {
      "image/png": "[encoded data removed]",
      "text/plain": [
       "<Figure size 432x288 with 1 Axes>"
      ]
     },
     "metadata": {
      "needs_background": "light"
     },
     "output_type": "display_data"
    }
   ],
   "source": [
    "# Generate a line plot of time point versus tumor volume for a mouse treated with Capomulin\n",
    "\n",
    "# Locate the values that just hold id 1509 and Capomulin\n",
    "capomulin_table = merge_df.loc[merge_df['Drug Regimen'] == \"Capomulin\"]\n",
    "mouse_IDdata = merge_df.loc[merge_df['Mouse ID'] == 'l509']\n",
    "\n",
    "# Create line graph \n",
    "plt.plot(mouse_IDdata['Timepoint'],\n",
    "         mouse_IDdata['Tumor Volume (mm3)'], color='green')\n",
    "plt.xlabel('Days')\n",
    "plt.ylabel('Tumor Volume')\n",
    "plt.title('Capomulin Drug Regimen')\n",
    "plt.show()"
   ]
  },
  {
   "cell_type": "code",
   "execution_count": 123,
   "metadata": {},
   "outputs": [
    {
     "data": {
      "image/png": "[encoded data removed]",
      "text/plain": [
       "<Figure size 432x288 with 1 Axes>"
      ]
     },
     "metadata": {
      "needs_background": "light"
     },
     "output_type": "display_data"
    }
   ],
   "source": [
    "# Generate a scatter plot of mouse weight versus average tumor volume for the Capomulin regimen\n",
    "# Declare the best drug value to Capomilin\n",
    "best_table = merge_df.loc[merge_df['Drug Regimen'] == \"Capomulin\"]\n",
    "best_average = best_table.groupby(['Mouse ID']).mean()\n",
    "\n",
    "# Provide a scatter plot for the best Drug Regimen\n",
    "plt.scatter(best_average['Weight (g)'],\n",
    "            best_average['Tumor Volume (mm3)'], color='green')\n",
    "plt.xlabel('Weight (g)')\n",
    "plt.ylabel('Average Tumor Volume (mm3)')\n",
    "plt.show()"
   ]
  },
  {
   "cell_type": "code",
   "execution_count": 124,
   "metadata": {},
   "outputs": [
    {
     "name": "stdout",
     "output_type": "stream",
     "text": [
      "The correlation is: 0.84\n"
     ]
    },
    {
     "data": {
      "text/plain": [
       "[<matplotlib.lines.Line2D at 0x1a1aebb7b8>]"
      ]
     },
     "execution_count": 124,
     "metadata": {},
     "output_type": "execute_result"
    },
    {
     "data": {
      "image/png": "[encoded data removed]",
      "text/plain": [
       "<Figure size 432x288 with 1 Axes>"
      ]
     },
     "metadata": {
      "needs_background": "light"
     },
     "output_type": "display_data"
    }
   ],
   "source": [
    "# Calculate the correlation coefficient and linear regression model for mouse weight and average tumor volume for the Capomulin regimen\n",
    "correlation = round(st.pearsonr(best_average['Weight (g)'],\n",
    "                                best_average['Tumor Volume (mm3)'])[0],2)\n",
    "print(f\"The correlation is: {correlation}\")\n",
    "\n",
    "#Scatter plot demonstates the liner regression between data points\n",
    "best_graph = st.linregress(best_average['Weight (g)'],best_average['Tumor Volume (mm3)'])\n",
    "y_values = best_average['Weight (g)'] * best_graph[0] + best_graph[1]\n",
    "\n",
    "#print scatter plot with line through it\n",
    "plt.scatter(best_average['Weight (g)'], \n",
    "            best_average['Tumor Volume (mm3)'], color='green')\n",
    "plt.xlabel('Weight (g)')\n",
    "plt.ylabel\n",
    "plt.plot(best_average['Weight (g)'], y_values,color=\"blue\")\n",
    "\n"
   ]
  },
  {
   "cell_type": "code",
   "execution_count": null,
   "metadata": {},
   "outputs": [],
   "source": []
  }
 ],
 "metadata": {
  "anaconda-cloud": {},
  "kernelspec": {
   "display_name": "Python 3",
   "language": "python",
   "name": "python3"
  },
  "language_info": {
   "codemirror_mode": {
    "name": "ipython",
    "version": 3
   },
   "file_extension": ".py",
   "mimetype": "text/x-python",
   "name": "python",
   "nbconvert_exporter": "python",
   "pygments_lexer": "ipython3",
   "version": "3.6.9"
  }
 },
 "nbformat": 4,
 "nbformat_minor": 2
}
